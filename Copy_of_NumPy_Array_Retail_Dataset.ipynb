{
  "nbformat": 4,
  "nbformat_minor": 0,
  "metadata": {
    "colab": {
      "provenance": []
    },
    "kernelspec": {
      "name": "python3",
      "display_name": "Python 3"
    },
    "language_info": {
      "name": "python"
    }
  },
  "cells": [
    {
      "cell_type": "code",
      "execution_count": null,
      "metadata": {
        "id": "TxzJa9Trug9H"
      },
      "outputs": [],
      "source": [
        "import numpy as np\n",
        "#retail dataset as numpy array\n",
        "retail_np_array = np.array([\n",
        "    [1001, \"Laptop\", 1, 50000, 50000],\n",
        "    [1002, \"Mouse\", 2, 500, 1000],\n",
        "    [1003, \"Keyboard\", 1, 1000, 1000],\n",
        "    [1004, \"Monitor\", 2, 7000, 14000],\n",
        "    [1005, \"Headphones\", 1, 2000, 2000]\n",
        "  ],  dtype=object)\n",
        "\n",
        "# Extracting columns"
      ]
    },
    {
      "cell_type": "code",
      "source": [
        "retail_np_array"
      ],
      "metadata": {
        "colab": {
          "base_uri": "https://localhost:8080/"
        },
        "id": "5olaiS8LvM2a",
        "outputId": "688fe8d6-5ba0-4cee-f946-24ce952e74bf"
      },
      "execution_count": null,
      "outputs": [
        {
          "output_type": "execute_result",
          "data": {
            "text/plain": [
              "array([[1001, 'Laptop', 1, 50000, 50000],\n",
              "       [1002, 'Mouse', 2, 500, 1000],\n",
              "       [1003, 'Keyboard', 1, 1000, 1000],\n",
              "       [1004, 'Monitor', 2, 7000, 14000],\n",
              "       [1005, 'Headphones', 1, 2000, 2000]], dtype=object)"
            ]
          },
          "metadata": {},
          "execution_count": 63
        }
      ]
    },
    {
      "cell_type": "code",
      "source": [
        "retail_np_array.shape"
      ],
      "metadata": {
        "colab": {
          "base_uri": "https://localhost:8080/"
        },
        "id": "qM7UVc4Hxp1B",
        "outputId": "0dfde6b3-2eb3-4eb2-9243-e3ca4c241f33"
      },
      "execution_count": null,
      "outputs": [
        {
          "output_type": "execute_result",
          "data": {
            "text/plain": [
              "(5, 5)"
            ]
          },
          "metadata": {},
          "execution_count": 22
        }
      ]
    },
    {
      "cell_type": "code",
      "source": [
        "retail_np_array.size"
      ],
      "metadata": {
        "colab": {
          "base_uri": "https://localhost:8080/"
        },
        "id": "kHCABJzbvYW_",
        "outputId": "18a20d19-913a-40ef-bada-41c52e2dda35"
      },
      "execution_count": null,
      "outputs": [
        {
          "output_type": "execute_result",
          "data": {
            "text/plain": [
              "25"
            ]
          },
          "metadata": {},
          "execution_count": 24
        }
      ]
    },
    {
      "cell_type": "code",
      "source": [
        "retail_np_array[:,0]"
      ],
      "metadata": {
        "colab": {
          "base_uri": "https://localhost:8080/"
        },
        "id": "VEw8Y16evYTp",
        "outputId": "5c352436-2f17-48c6-8625-46cc7c9c8977"
      },
      "execution_count": null,
      "outputs": [
        {
          "output_type": "execute_result",
          "data": {
            "text/plain": [
              "array([1001, 1002, 1003, 1004, 1005], dtype=object)"
            ]
          },
          "metadata": {},
          "execution_count": 30
        }
      ]
    },
    {
      "cell_type": "code",
      "source": [
        "retail_np_array[0:1]"
      ],
      "metadata": {
        "colab": {
          "base_uri": "https://localhost:8080/"
        },
        "id": "gUTRU1Zl0Vbl",
        "outputId": "8ce82596-1998-45cd-dc0e-aaa614645f3b"
      },
      "execution_count": null,
      "outputs": [
        {
          "output_type": "execute_result",
          "data": {
            "text/plain": [
              "array([[1001, 'Laptop', 1, 50000, 50000]], dtype=object)"
            ]
          },
          "metadata": {},
          "execution_count": 31
        }
      ]
    },
    {
      "cell_type": "code",
      "source": [
        "retail_np_array[0:4]"
      ],
      "metadata": {
        "colab": {
          "base_uri": "https://localhost:8080/"
        },
        "id": "6Wf2AL_evYRl",
        "outputId": "665b5da0-24da-4fbc-8309-224135eaa417"
      },
      "execution_count": null,
      "outputs": [
        {
          "output_type": "execute_result",
          "data": {
            "text/plain": [
              "array([[1001, 'Laptop', 1, 50000, 50000],\n",
              "       [1002, 'Mouse', 2, 500, 1000],\n",
              "       [1003, 'Keyboard', 1, 1000, 1000],\n",
              "       [1004, 'Monitor', 2, 7000, 14000]], dtype=object)"
            ]
          },
          "metadata": {},
          "execution_count": 33
        }
      ]
    },
    {
      "cell_type": "code",
      "source": [],
      "metadata": {
        "id": "WadWu6uT2fv_"
      },
      "execution_count": null,
      "outputs": []
    },
    {
      "cell_type": "code",
      "source": [
        "retail_np_array[1:4]"
      ],
      "metadata": {
        "colab": {
          "base_uri": "https://localhost:8080/"
        },
        "id": "urdz6_8dvYPi",
        "outputId": "4d832ef8-6f1e-43c9-c20e-72cbd8d464b3"
      },
      "execution_count": null,
      "outputs": [
        {
          "output_type": "execute_result",
          "data": {
            "text/plain": [
              "array([[1002, 'Mouse', 2, 500, 1000],\n",
              "       [1003, 'Keyboard', 1, 1000, 1000],\n",
              "       [1004, 'Monitor', 2, 7000, 14000]], dtype=object)"
            ]
          },
          "metadata": {},
          "execution_count": 36
        }
      ]
    },
    {
      "cell_type": "code",
      "source": [
        "retail_np_array[1:,4]"
      ],
      "metadata": {
        "colab": {
          "base_uri": "https://localhost:8080/"
        },
        "id": "pRoJH71DvYM_",
        "outputId": "2b012d0a-1a7c-4ec3-83c6-f705b4a37edc"
      },
      "execution_count": null,
      "outputs": [
        {
          "output_type": "execute_result",
          "data": {
            "text/plain": [
              "array([1000, 1000, 14000, 2000], dtype=object)"
            ]
          },
          "metadata": {},
          "execution_count": 37
        }
      ]
    },
    {
      "cell_type": "code",
      "source": [
        "retail_np_array[:,1]"
      ],
      "metadata": {
        "id": "jWTiO_sT3Z7z",
        "outputId": "ad41983c-eef1-44da-fe67-d417a04e7358",
        "colab": {
          "base_uri": "https://localhost:8080/"
        }
      },
      "execution_count": null,
      "outputs": [
        {
          "output_type": "execute_result",
          "data": {
            "text/plain": [
              "array(['Laptop', 'Mouse', 'Keyboard', 'Monitor', 'Headphones'],\n",
              "      dtype=object)"
            ]
          },
          "metadata": {},
          "execution_count": 41
        }
      ]
    },
    {
      "cell_type": "code",
      "source": [
        "retail_np_array[:,2]"
      ],
      "metadata": {
        "colab": {
          "base_uri": "https://localhost:8080/"
        },
        "id": "2rM3rpao3Th8",
        "outputId": "07d90004-f5a1-4614-e6ef-06121fb05686"
      },
      "execution_count": null,
      "outputs": [
        {
          "output_type": "execute_result",
          "data": {
            "text/plain": [
              "array([1, 2, 1, 2, 1], dtype=object)"
            ]
          },
          "metadata": {},
          "execution_count": 40
        }
      ]
    },
    {
      "cell_type": "code",
      "source": [
        "retail_np_array[:,3]"
      ],
      "metadata": {
        "colab": {
          "base_uri": "https://localhost:8080/"
        },
        "id": "PKvgEKhl2uDi",
        "outputId": "2c757969-d22a-44ce-a348-3a304fda9eb6"
      },
      "execution_count": null,
      "outputs": [
        {
          "output_type": "execute_result",
          "data": {
            "text/plain": [
              "array([50000, 500, 1000, 7000, 2000], dtype=object)"
            ]
          },
          "metadata": {},
          "execution_count": 39
        }
      ]
    },
    {
      "cell_type": "code",
      "source": [
        "totals=retail_np_array[:,4]"
      ],
      "metadata": {
        "colab": {
          "base_uri": "https://localhost:8080/"
        },
        "id": "fSMG1u9rvYK2",
        "outputId": "5a07db54-147d-40bb-e4e6-776ae4383780"
      },
      "execution_count": null,
      "outputs": [
        {
          "output_type": "execute_result",
          "data": {
            "text/plain": [
              "array([50000, 1000, 1000, 14000, 2000], dtype=object)"
            ]
          },
          "metadata": {},
          "execution_count": 40
        }
      ]
    },
    {
      "cell_type": "code",
      "source": [
        "retail_np_array\n"
      ],
      "metadata": {
        "id": "C-Vk7iXovMz1",
        "colab": {
          "base_uri": "https://localhost:8080/"
        },
        "outputId": "f5d8591f-ae93-47b2-b4b3-5fa430072439"
      },
      "execution_count": null,
      "outputs": [
        {
          "output_type": "execute_result",
          "data": {
            "text/plain": [
              "array([[1001, 'Laptop', 1, 50000, 50000],\n",
              "       [1002, 'Mouse', 2, 500, 1000],\n",
              "       [1003, 'Keyboard', 1, 1000, 1000],\n",
              "       [1004, 'Monitor', 2, 7000, 14000],\n",
              "       [1005, 'Headphones', 1, 2000, 2000]], dtype=object)"
            ]
          },
          "metadata": {},
          "execution_count": 71
        }
      ]
    },
    {
      "cell_type": "code",
      "source": [
        "retail_np_array.shape[0]"
      ],
      "metadata": {
        "id": "u-h7JAnRvMxy",
        "colab": {
          "base_uri": "https://localhost:8080/"
        },
        "outputId": "93043c83-b1f7-46b1-cbea-3209ec31d5b1"
      },
      "execution_count": null,
      "outputs": [
        {
          "output_type": "execute_result",
          "data": {
            "text/plain": [
              "(5,)"
            ]
          },
          "metadata": {},
          "execution_count": 7
        }
      ]
    },
    {
      "cell_type": "code",
      "source": [
        "retail_np_array.shape[0],retail_np_array.shape[1]"
      ],
      "metadata": {
        "id": "rAFKQZ4lvMvd",
        "colab": {
          "base_uri": "https://localhost:8080/"
        },
        "outputId": "ee438419-dc1e-4628-9ea7-76be36d7bdbd"
      },
      "execution_count": null,
      "outputs": [
        {
          "output_type": "execute_result",
          "data": {
            "text/plain": [
              "(5, 5)"
            ]
          },
          "metadata": {},
          "execution_count": 8
        }
      ]
    },
    {
      "cell_type": "code",
      "source": [
        "#totals=np.array([[100,200,300,400],[600,400,700,800]])"
      ],
      "metadata": {
        "id": "PVhrMmJWmvC8"
      },
      "execution_count": null,
      "outputs": []
    },
    {
      "cell_type": "code",
      "source": [
        "print(\"Total revenue generated :\",np.sum(totals))"
      ],
      "metadata": {
        "colab": {
          "base_uri": "https://localhost:8080/"
        },
        "id": "ii2Dlxgxl8mB",
        "outputId": "3bbef491-c5a5-45cd-8ec0-96bfc0f87252"
      },
      "execution_count": null,
      "outputs": [
        {
          "output_type": "stream",
          "name": "stdout",
          "text": [
            "Total revenue generated : 3500\n"
          ]
        }
      ]
    },
    {
      "cell_type": "code",
      "source": [
        "\n",
        "print(\"Total revenue generated\",np.sum(totals))\n"
      ],
      "metadata": {
        "id": "nBaYxi8XvMtL",
        "colab": {
          "base_uri": "https://localhost:8080/"
        },
        "outputId": "3bd32ded-7b98-460f-8f9c-a8787e1a8f3a"
      },
      "execution_count": null,
      "outputs": [
        {
          "output_type": "stream",
          "name": "stdout",
          "text": [
            "Total revenue generated 3500\n"
          ]
        }
      ]
    },
    {
      "cell_type": "code",
      "source": [
        "print(\"Average order value :\", np.mean(totals))\n"
      ],
      "metadata": {
        "id": "P4TyLRzPvMq7",
        "colab": {
          "base_uri": "https://localhost:8080/"
        },
        "outputId": "7262eecc-be73-41a4-f974-8a864faf0676"
      },
      "execution_count": null,
      "outputs": [
        {
          "output_type": "stream",
          "name": "stdout",
          "text": [
            "Average order value : 437.5\n"
          ]
        }
      ]
    },
    {
      "cell_type": "code",
      "source": [
        "print(\"Product with the highest total price \",[np.argmax(totals)]),\n",
        "\n"
      ],
      "metadata": {
        "id": "VT9TxJ0DvMon",
        "colab": {
          "base_uri": "https://localhost:8080/"
        },
        "outputId": "be38c8dc-9144-440c-ec25-0f0c20971f6d"
      },
      "execution_count": null,
      "outputs": [
        {
          "output_type": "stream",
          "name": "stdout",
          "text": [
            "Product with the highest total price  [np.int64(7)]\n"
          ]
        },
        {
          "output_type": "execute_result",
          "data": {
            "text/plain": [
              "(None,)"
            ]
          },
          "metadata": {},
          "execution_count": 76
        }
      ]
    },
    {
      "cell_type": "code",
      "source": [
        "print(\"Product with the lowest total price\" ,[np.argmin (totals)]),\n"
      ],
      "metadata": {
        "id": "Nu-fzlLtvMmU",
        "colab": {
          "base_uri": "https://localhost:8080/"
        },
        "outputId": "8b584b7c-725e-4602-9e4f-567a579f60c0"
      },
      "execution_count": null,
      "outputs": [
        {
          "output_type": "stream",
          "name": "stdout",
          "text": [
            "Product with the lowest total price [np.int64(0)]\n"
          ]
        },
        {
          "output_type": "execute_result",
          "data": {
            "text/plain": [
              "(None,)"
            ]
          },
          "metadata": {},
          "execution_count": 79
        }
      ]
    },
    {
      "cell_type": "code",
      "source": [
        "print(\"Average price of products\", np.mean (price))\n",
        "\n"
      ],
      "metadata": {
        "id": "RX-0DpTXvMju",
        "colab": {
          "base_uri": "https://localhost:8080/",
          "height": 164
        },
        "outputId": "12ad9ccd-da45-4915-f820-ea33cf92241a"
      },
      "execution_count": null,
      "outputs": [
        {
          "output_type": "error",
          "ename": "NameError",
          "evalue": "name 'price' is not defined",
          "traceback": [
            "\u001b[0;31m---------------------------------------------------------------------------\u001b[0m",
            "\u001b[0;31mNameError\u001b[0m                                 Traceback (most recent call last)",
            "\u001b[0;32m<ipython-input-83-2a8c38604d16>\u001b[0m in \u001b[0;36m<cell line: 0>\u001b[0;34m()\u001b[0m\n\u001b[0;32m----> 1\u001b[0;31m \u001b[0mprint\u001b[0m\u001b[0;34m(\u001b[0m\u001b[0;34m\"Average price of products\"\u001b[0m\u001b[0;34m,\u001b[0m \u001b[0mnp\u001b[0m\u001b[0;34m.\u001b[0m\u001b[0mmean\u001b[0m \u001b[0;34m(\u001b[0m\u001b[0mprice\u001b[0m\u001b[0;34m)\u001b[0m\u001b[0;34m)\u001b[0m\u001b[0;34m\u001b[0m\u001b[0;34m\u001b[0m\u001b[0m\n\u001b[0m\u001b[1;32m      2\u001b[0m \u001b[0;34m\u001b[0m\u001b[0m\n",
            "\u001b[0;31mNameError\u001b[0m: name 'price' is not defined"
          ]
        }
      ]
    },
    {
      "cell_type": "code",
      "source": [],
      "metadata": {
        "id": "cYub1y0dvMhR"
      },
      "execution_count": null,
      "outputs": []
    },
    {
      "cell_type": "code",
      "source": [],
      "metadata": {
        "id": "7fRrOM6ZvMdM"
      },
      "execution_count": null,
      "outputs": []
    },
    {
      "cell_type": "code",
      "source": [],
      "metadata": {
        "id": "X2TZrhIwvMa6"
      },
      "execution_count": null,
      "outputs": []
    },
    {
      "cell_type": "code",
      "source": [],
      "metadata": {
        "id": "YK5iQBiuvMY0"
      },
      "execution_count": null,
      "outputs": []
    },
    {
      "cell_type": "code",
      "source": [],
      "metadata": {
        "id": "HXNIjjjNvMWT"
      },
      "execution_count": null,
      "outputs": []
    }
  ]
}